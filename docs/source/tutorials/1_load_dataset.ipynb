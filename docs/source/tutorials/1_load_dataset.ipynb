{
 "cells": [
  {
   "cell_type": "code",
   "execution_count": 7,
   "id": "c4d31aa2-5a42-457a-bff7-11b5cdb2f879",
   "metadata": {},
   "outputs": [],
   "source": [
    "import innate\n",
    "import pyneb as pn"
   ]
  },
  {
   "cell_type": "code",
   "execution_count": 8,
   "id": "653c2b2a-9222-4f7e-8f71-754d6de073e2",
   "metadata": {},
   "outputs": [
    {
     "name": "stderr",
     "output_type": "stream",
     "text": [
      "Data set \"Ne3_3869A\" is missing:\n",
      "Parametrisation formula (\"eqn\" key in dataset configuration).\n",
      "Parametrisation coefficients (\"eqn_coeffs\" key in dataset configuration).\n",
      "Data set \"H1_4861A\" is missing:\n",
      "Parametrisation formula (\"eqn\" key in dataset configuration).\n",
      "Parametrisation coefficients (\"eqn_coeffs\" key in dataset configuration).\n",
      "Data set \"Fe3_4658A\" is missing:\n",
      "Parametrisation formula (\"eqn\" key in dataset configuration).\n",
      "Parametrisation coefficients (\"eqn_coeffs\" key in dataset configuration).\n",
      "Data set \"O2_3726A_m\" is missing:\n",
      "Parametrisation formula (\"eqn\" key in dataset configuration).\n",
      "Parametrisation coefficients (\"eqn_coeffs\" key in dataset configuration).\n"
     ]
    }
   ],
   "source": [
    "data_file = '../data/emissivity_grids.nc'\n",
    "emissivities = innate.DataSet.from_file(data_file)"
   ]
  },
  {
   "cell_type": "code",
   "execution_count": 9,
   "id": "1edaed7b-f136-439b-ba52-a3f4c8dcd994",
   "metadata": {},
   "outputs": [
    {
     "name": "stdout",
     "output_type": "stream",
     "text": [
      "Interpolation [54144.39828319]\n"
     ]
    }
   ],
   "source": [
    "temp, den = 12250, 122\n",
    "print('Interpolation', emissivities['O3_5007A'].approx.interp.rgi((temp, den)).eval())"
   ]
  },
  {
   "cell_type": "code",
   "execution_count": 10,
   "id": "1dcec60f-24f0-4eed-b20d-6c7564a7835c",
   "metadata": {},
   "outputs": [],
   "source": [
    "# Compare with the original data\n",
    "#O3, H1 = pn.Atom('O', 3), pn.RecAtom('H', 1)\n",
    "#emiss_ratio = O3.getEmissivity(temp, den, wave=5007)/H1.getEmissivity(temp, den, wave=4861)\n",
    "#print('True value', emiss_ratio)"
   ]
  },
  {
   "cell_type": "code",
   "execution_count": null,
   "id": "f6ab2da8-93f4-48ca-9379-d91338b1498b",
   "metadata": {},
   "outputs": [],
   "source": []
  }
 ],
 "metadata": {
  "kernelspec": {
   "display_name": "Python 3 (ipykernel)",
   "language": "python",
   "name": "python3"
  },
  "language_info": {
   "codemirror_mode": {
    "name": "ipython",
    "version": 3
   },
   "file_extension": ".py",
   "mimetype": "text/x-python",
   "name": "python",
   "nbconvert_exporter": "python",
   "pygments_lexer": "ipython3",
   "version": "3.10.13"
  }
 },
 "nbformat": 4,
 "nbformat_minor": 5
}
