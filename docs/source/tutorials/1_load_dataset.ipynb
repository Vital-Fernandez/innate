{
 "cells": [
  {
   "cell_type": "markdown",
   "id": "0776e23c-bfe7-4fb2-b5e6-5a6f56943b3a",
   "metadata": {},
   "source": [
    "# Load emissivity data"
   ]
  },
  {
   "cell_type": "markdown",
   "id": "b215a87b-7182-442a-8a0d-3494d11e4564",
   "metadata": {},
   "source": [
    "In this example, you will lear how to load data from emissivity grid and do simple interpolation. As a first step, you will need to import innet and pyneb library. Pyneb is a tool to compute emission line emissivities."
   ]
  },
  {
   "cell_type": "code",
   "execution_count": 1,
   "id": "c4d31aa2-5a42-457a-bff7-11b5cdb2f879",
   "metadata": {},
   "outputs": [],
   "source": [
    "import innate\n",
    "import pyneb as pn"
   ]
  },
  {
   "cell_type": "markdown",
   "id": "920b3f72-4e0b-41fe-aee1-8a33915e0539",
   "metadata": {},
   "source": [
    "First, load the emissivity data in HDF5 format as follows:"
   ]
  },
  {
   "cell_type": "code",
   "execution_count": 2,
   "id": "653c2b2a-9222-4f7e-8f71-754d6de073e2",
   "metadata": {},
   "outputs": [
    {
     "name": "stderr",
     "output_type": "stream",
     "text": [
      "Data set \"O2_3726A_m\" is missing:\n",
      "Parametrisation formula (\"eqn\" key in dataset configuration).\n",
      "Parametrisation coefficients (\"eqn_coeffs\" key in dataset configuration).\n",
      "Data set \"Ne3_3869A\" is missing:\n",
      "Parametrisation formula (\"eqn\" key in dataset configuration).\n",
      "Parametrisation coefficients (\"eqn_coeffs\" key in dataset configuration).\n",
      "Data set \"Fe3_4658A\" is missing:\n",
      "Parametrisation formula (\"eqn\" key in dataset configuration).\n",
      "Parametrisation coefficients (\"eqn_coeffs\" key in dataset configuration).\n",
      "Data set \"H1_4861A\" is missing:\n",
      "Parametrisation formula (\"eqn\" key in dataset configuration).\n",
      "Parametrisation coefficients (\"eqn_coeffs\" key in dataset configuration).\n"
     ]
    }
   ],
   "source": [
    "data_file = '../data/emissivity_grids.nc'\n",
    "emissivities = innate.DataSet.from_file(data_file)"
   ]
  },
  {
   "cell_type": "markdown",
   "id": "7bf0f580-f27c-4a1d-a519-2adf8531b84a",
   "metadata": {},
   "source": [
    "As a next step, you will compute an approximated value for the emissivity of twice ionized oxygen (O$^{2+}$) for a wavelength 5007 $\\mathrm{\\mathring A}$ (500.7 nm), i.e., O3_5007A point, for temperature 12250 K and density 122 particles/cm$^3$ using Regular Grid Interpolator."
   ]
  },
  {
   "cell_type": "code",
   "execution_count": 9,
   "id": "1edaed7b-f136-439b-ba52-a3f4c8dcd994",
   "metadata": {},
   "outputs": [
    {
     "name": "stdout",
     "output_type": "stream",
     "text": [
      "Interpolated value for O3_5007A is: [54144.39828319]\n"
     ]
    }
   ],
   "source": [
    "temp, den = 12250, 122\n",
    "interp_value_innate = emissivities['O3_5007A'].approx.interp.rgi((temp, den)).eval()\n",
    "print(f'Interpolated value for O3_5007A is: {interpolated_value}')"
   ]
  },
  {
   "cell_type": "markdown",
   "id": "8108f3c4-6806-4234-970a-7f8f2dfb133d",
   "metadata": {},
   "source": [
    "To confirm the accuracy of the interpolation, let's compare the interpolated value with the one obtained by RegularGridInterpolator from scipy library:"
   ]
  },
  {
   "cell_type": "code",
   "execution_count": 11,
   "id": "97ae765e-3dca-40a9-9ea6-952f468d10b4",
   "metadata": {},
   "outputs": [
    {
     "name": "stdout",
     "output_type": "stream",
     "text": [
      "Interpolated value for O3_5007A from scipy is: [54144.39828319]\n",
      "Difference between the intepolations is: [0.]\n"
     ]
    }
   ],
   "source": [
    "from scipy.interpolate import RegularGridInterpolator\n",
    "import numpy as np\n",
    "\n",
    "data = emissivities['O3_5007A'].data\n",
    "x = list(emissivities['O3_5007A'].axes_range.values())[0]\n",
    "y = list(emissivities['O3_5007A'].axes_range.values())[1]\n",
    "\n",
    "xg, yg = np.meshgrid(x, y, indexing='ij', sparse=True)\n",
    "\n",
    "interp = RegularGridInterpolator((x, y), data)\n",
    "\n",
    "interpol_value_scipy = interp([12250, 122])\n",
    "\n",
    "print(f'Interpolated value for O3_5007A from scipy is: {interpol_value_scipy}')\n",
    "\n",
    "difference = interpol_value_scipy - interp_value_innate\n",
    "\n",
    "print(f'Difference between the intepolations is: {difference}')\n"
   ]
  },
  {
   "cell_type": "markdown",
   "id": "8a3f8d97-4ff9-4ed5-8fae-3b80d86f8161",
   "metadata": {},
   "source": [
    "From this comparison, you can see that Innate automates the interpolation process and provides the same accuracy as methods implemented in other libraries."
   ]
  },
  {
   "cell_type": "code",
   "execution_count": null,
   "id": "a372d5e4-c457-4276-b529-cc6529e08b55",
   "metadata": {},
   "outputs": [],
   "source": []
  }
 ],
 "metadata": {
  "kernelspec": {
   "display_name": "Python 3 (ipykernel)",
   "language": "python",
   "name": "python3"
  },
  "language_info": {
   "codemirror_mode": {
    "name": "ipython",
    "version": 3
   },
   "file_extension": ".py",
   "mimetype": "text/x-python",
   "name": "python",
   "nbconvert_exporter": "python",
   "pygments_lexer": "ipython3",
   "version": "3.10.13"
  }
 },
 "nbformat": 4,
 "nbformat_minor": 5
}
